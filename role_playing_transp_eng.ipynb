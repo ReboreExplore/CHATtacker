Exploring Prompt Hacking with GPT-3
This notebook explores the use of GPT-3 and openAI's API to explore prompt hacking while assigning a fixed role to the chatbot. The goal is to find the an optimum offensive and defensive prompt for a chatbot that is assigned a fixed role. The chatbot is assigned a role of a "University Professor".

The model used: gpt-3.5-turbo

Offensive measure: A combination of code injection, payload splitting and base64 encoding.

Defensive measure: Separate LLM evaluation and filtering technique via instruction prompt.

# Import libraries
import json
from IPython.display import display, Markdown
import openai
import os

# Get API key from config.json in the same directory
with open('config.json') as f:
   data = json.load(f)
   api_key = data['OPENAI_API_KEY']
# Set up your OpenAI API key
openai.api_key = api_key

# Define function for printing long strings as markdown
md_print = lambda text: display(Markdown(text))
