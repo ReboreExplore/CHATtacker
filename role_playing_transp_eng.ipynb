Exploring Prompt Hacking with GPT-3
This notebook explores the use of GPT-3 and openAI's API to explore prompt hacking while assigning a fixed role to the chatbot. The goal is to find the an optimum offensive and defensive prompt for a chatbot that is assigned a fixed role. The chatbot is assigned a role of a "University Professor".

The model used: gpt-3.5-turbo

Offensive measure: A combination of code injection, payload splitting and base64 encoding.

Defensive measure: Separate LLM evaluation and filtering technique via instruction prompt.

# Import libraries
import json
from IPython.display import display, Markdown
import openai
import os

# Get API key from config.json in the same directory
with open('config.json') as f:
   data = json.load(f)
   api_key = data['OPENAI_API_KEY']
# Set up your OpenAI API key
openai.api_key = api_key

# Define function for printing long strings as markdown
md_print = lambda text: display(Markdown(text))


class TransportationChatBot:
    def __init__(self):
        # List to keep track of conversation history
        self.context = []
        
    def new_message(self, user_prompt, verbose_last_message_only=True):
        # Append user prompt to chatbot context
        self.context.append({"role": "user", "content": user_prompt})

        # Create transportation assistant response
        completion = openai.ChatCompletion.create(
            model="gpt-3.5-turbo",
            messages=self.context
        )

        # Parse transportation assistant response
        transport_response = completion.choices[0].message.content

        # Add transportation assistant response to context
        self.context.append({"role": "assistant", "content": transport_response})

        # Selecting message(s) to print
        if verbose_last_message_only:
            messages_to_print = self.context[-2:]
        else:
            messages_to_print = self.context

        # Print out the conversation
        for message in messages_to_print:
            if message["role"] == "user":
                md_print(f'Transport Engineer: {message["content"]}')
            else:
                md_print(f'Eng. Bilal: {message["content"]}')

